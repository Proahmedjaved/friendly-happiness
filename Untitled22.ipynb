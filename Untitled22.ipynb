{
  "nbformat": 4,
  "nbformat_minor": 0,
  "metadata": {
    "colab": {
      "name": "Untitled22.ipynb",
      "provenance": []
    },
    "kernelspec": {
      "name": "python3",
      "display_name": "Python 3"
    },
    "language_info": {
      "name": "python"
    }
  },
  "cells": [
    {
      "cell_type": "code",
      "execution_count": null,
      "metadata": {
        "id": "W3Fshj5bYIHJ"
      },
      "outputs": [],
      "source": [
        "from datetime import datetime\n",
        "wait_until = datetime.now().second + 2\n",
        "while datetime.now().second != wait_until:\n",
        "  print(\"Still waiting!\")\n",
        "\n",
        "print(f\"We're at {wait_until} seconds!\")"
      ]
    },
    {
      "cell_type": "code",
      "source": [
        "wait_until = datetime.now().second + 2\n",
        "datetime.now().second != wait_until "
      ],
      "metadata": {
        "id": "5M3bYRnmYfu5"
      },
      "execution_count": 4,
      "outputs": []
    },
    {
      "cell_type": "code",
      "source": [
        "print(wait_until)"
      ],
      "metadata": {
        "colab": {
          "base_uri": "https://localhost:8080/"
        },
        "id": "gFj8X9QdZC-P",
        "outputId": "859c718d-611d-4716-d06b-3263cd0b853f"
      },
      "execution_count": 5,
      "outputs": [
        {
          "output_type": "stream",
          "name": "stdout",
          "text": [
            "51\n"
          ]
        }
      ]
    },
    {
      "cell_type": "code",
      "source": [
        "49 + 2"
      ],
      "metadata": {
        "id": "KYkCMO4pZEQO",
        "colab": {
          "base_uri": "https://localhost:8080/"
        },
        "outputId": "a6aaaadc-4059-4b64-eaaf-65ec2871ea07"
      },
      "execution_count": 6,
      "outputs": [
        {
          "output_type": "execute_result",
          "data": {
            "text/plain": [
              "51"
            ]
          },
          "metadata": {},
          "execution_count": 6
        }
      ]
    },
    {
      "cell_type": "code",
      "source": [
        "sumofeven = 0\n",
        "\n",
        "for i in range(1,10):\n",
        "\n",
        "  if i % 2 != 0:\n",
        "    continue\n",
        "\n",
        "  sumofeven += i\n",
        "  "
      ],
      "metadata": {
        "id": "YFvXPelTagTc"
      },
      "execution_count": 9,
      "outputs": []
    },
    {
      "cell_type": "code",
      "source": [
        "sumofeven"
      ],
      "metadata": {
        "colab": {
          "base_uri": "https://localhost:8080/"
        },
        "id": "vCRgJMrHb5sO",
        "outputId": "1c568865-7dc6-4bd3-ec30-6e912d102d05"
      },
      "execution_count": 10,
      "outputs": [
        {
          "output_type": "execute_result",
          "data": {
            "text/plain": [
              "20"
            ]
          },
          "metadata": {},
          "execution_count": 10
        }
      ]
    },
    {
      "cell_type": "code",
      "source": [
        "import math"
      ],
      "metadata": {
        "id": "6HDYVjC8ciIL"
      },
      "execution_count": 11,
      "outputs": []
    },
    {
      "cell_type": "code",
      "source": [
        "math.pr"
      ],
      "metadata": {
        "colab": {
          "base_uri": "https://localhost:8080/",
          "height": 166
        },
        "id": "k4ohuplodRTL",
        "outputId": "66062216-40fc-4e96-f204-fed14c2ac576"
      },
      "execution_count": 14,
      "outputs": [
        {
          "output_type": "error",
          "ename": "AttributeError",
          "evalue": "ignored",
          "traceback": [
            "\u001b[0;31m---------------------------------------------------------------------------\u001b[0m",
            "\u001b[0;31mAttributeError\u001b[0m                            Traceback (most recent call last)",
            "\u001b[0;32m<ipython-input-14-7b16b957535e>\u001b[0m in \u001b[0;36m<module>\u001b[0;34m()\u001b[0m\n\u001b[0;32m----> 1\u001b[0;31m \u001b[0mmath\u001b[0m\u001b[0;34m.\u001b[0m\u001b[0mprod\u001b[0m\u001b[0;34m\u001b[0m\u001b[0;34m\u001b[0m\u001b[0m\n\u001b[0m",
            "\u001b[0;31mAttributeError\u001b[0m: module 'math' has no attribute 'prod'"
          ]
        }
      ]
    },
    {
      "cell_type": "code",
      "source": [
        ""
      ],
      "metadata": {
        "id": "gZ9fUKQ1dUFK"
      },
      "execution_count": null,
      "outputs": []
    }
  ]
}